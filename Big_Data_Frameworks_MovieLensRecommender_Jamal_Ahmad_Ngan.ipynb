{
  "nbformat": 4,
  "nbformat_minor": 0,
  "metadata": {
    "colab": {
      "provenance": []
    },
    "kernelspec": {
      "name": "python3",
      "display_name": "Python 3"
    },
    "language_info": {
      "name": "python"
    },
    "accelerator": "GPU",
    "gpuClass": "standard"
  },
  "cells": [
    {
      "cell_type": "markdown",
      "source": [
        "# Movie Lens Recommender - Big Data Framework Project\n",
        "Date : 08/01/2023\n",
        "\n",
        "Hadi Jamal Ahmad - Julie Ngan - M2 BDML-APP\n",
        "\n",
        "### EFREI Paris\n",
        "\n",
        "\n",
        "The goal is to build a model (ANNOY) to recommend movies to a watcher. \n",
        "\n",
        "There are two types of recommendations : \n",
        "- Content-based filtering : recommend to a watcher based on what he already watches\n",
        "- Collaborative filtering : recommend a watcher based on what others might like whore are near to him in preferences.\n",
        "\n",
        "For this project we use PySpark. \n",
        "\n",
        "Our IMBD dataset contains :\n",
        "\n",
        "- Movies Metadata\n",
        "- Credits\n",
        "- Links\n",
        "- Ratings\n",
        "- Keywords\n",
        "\n",
        "For this project, drag and drop the csv into a data folder"
      ],
      "metadata": {
        "id": "sjstD59SV3LP"
      }
    },
    {
      "cell_type": "markdown",
      "source": [
        "1. Make a good analysis of the dataset.\n",
        "2. Build regression models to predict movie revenue and vote\n",
        "averages.\n",
        "3. Use collaborative filtering to build a movie recommendation\n",
        "system with two functions:\n",
        "3.1 Suggest top N movies similar to a given movie title.\n",
        "3.2 Predict user rating for the movies they have not rated for. You\n",
        "may use a test set to test your prediction accuracy, in which\n",
        "the test ratings can be regarded as not rated during training ."
      ],
      "metadata": {
        "id": "HmhzeLls9ers"
      }
    },
    {
      "cell_type": "code",
      "source": [
        "!pip install koalas\n"
      ],
      "metadata": {
        "colab": {
          "base_uri": "https://localhost:8080/"
        },
        "id": "DkY0Zp-LV_vr",
        "outputId": "04484dc5-a84b-4a60-e555-688598971057"
      },
      "execution_count": null,
      "outputs": [
        {
          "output_type": "stream",
          "name": "stdout",
          "text": [
            "Looking in indexes: https://pypi.org/simple, https://us-python.pkg.dev/colab-wheels/public/simple/\n",
            "Collecting koalas\n",
            "  Downloading koalas-1.8.2-py3-none-any.whl (390 kB)\n",
            "\u001b[2K     \u001b[90m━━━━━━━━━━━━━━━━━━━━━━━━━━━━━━━━━━━━━━\u001b[0m \u001b[32m390.8/390.8 KB\u001b[0m \u001b[31m19.5 MB/s\u001b[0m eta \u001b[36m0:00:00\u001b[0m\n",
            "\u001b[?25hRequirement already satisfied: pandas>=0.23.2 in /usr/local/lib/python3.8/dist-packages (from koalas) (1.3.5)\n",
            "Requirement already satisfied: pyarrow>=0.10 in /usr/local/lib/python3.8/dist-packages (from koalas) (9.0.0)\n",
            "Requirement already satisfied: numpy>=1.14 in /usr/local/lib/python3.8/dist-packages (from koalas) (1.21.6)\n",
            "Requirement already satisfied: pytz>=2017.3 in /usr/local/lib/python3.8/dist-packages (from pandas>=0.23.2->koalas) (2022.7)\n",
            "Requirement already satisfied: python-dateutil>=2.7.3 in /usr/local/lib/python3.8/dist-packages (from pandas>=0.23.2->koalas) (2.8.2)\n",
            "Requirement already satisfied: six>=1.5 in /usr/local/lib/python3.8/dist-packages (from python-dateutil>=2.7.3->pandas>=0.23.2->koalas) (1.15.0)\n",
            "Installing collected packages: koalas\n",
            "Successfully installed koalas-1.8.2\n"
          ]
        }
      ]
    },
    {
      "cell_type": "markdown",
      "source": [
        "### 1. Analysis"
      ],
      "metadata": {
        "id": "9tM441gh-U_e"
      }
    },
    {
      "cell_type": "code",
      "source": [
        "import os\n",
        "\n",
        "os.environ[\"JAVA_HOME\"] = \"/usr/lib/jvm/java-11-openjdk-amd64\"\n",
        "os.environ[\"SPARK_HOME\"] = \"/content/spark-3.0.1-bin-hadoop3.2\"\n",
        "os.environ[\"PYARROW_IGNORE_TIMEZONE\"] = \"1\"\n",
        "os.environ[\"SPARK_VERSION\"] = \"3.0.1\"                          #your SPARK_VERSION"
      ],
      "metadata": {
        "id": "OvmT8WBZuOiN"
      },
      "execution_count": 1,
      "outputs": []
    },
    {
      "cell_type": "code",
      "source": [
        "!wget -q https://archive.apache.org/dist/spark/spark-3.0.1/spark-3.0.1-bin-hadoop3.2.tgz"
      ],
      "metadata": {
        "id": "ZrcSvShd9fQc"
      },
      "execution_count": 2,
      "outputs": []
    },
    {
      "cell_type": "code",
      "source": [
        "!tar xf spark-3.0.1-bin-hadoop3.2.tgz"
      ],
      "metadata": {
        "id": "PL41zi4YuYkx"
      },
      "execution_count": 3,
      "outputs": []
    },
    {
      "cell_type": "code",
      "source": [
        "!pip install -q findspark"
      ],
      "metadata": {
        "id": "g7hzUXxS6Xt0"
      },
      "execution_count": 4,
      "outputs": []
    },
    {
      "cell_type": "code",
      "source": [
        "import findspark\n",
        "findspark.init()\n",
        "from pyspark.sql import SparkSession\n",
        "spark = SparkSession.builder.master(\"local[*]\").getOrCreate()"
      ],
      "metadata": {
        "id": "ogp8TgGyXwqP"
      },
      "execution_count": 5,
      "outputs": []
    },
    {
      "cell_type": "code",
      "source": [
        "import pandas as pd\n",
        "\n",
        "def read(filename):\n",
        "  return (spark.read.format(\"csv\").options(header=\"true\")\n",
        "    .load(filename))\n"
      ],
      "metadata": {
        "id": "QPDT1tiKUAfr"
      },
      "execution_count": 8,
      "outputs": []
    },
    {
      "cell_type": "markdown",
      "source": [
        "Preprocessing"
      ],
      "metadata": {
        "id": "GU961zFbcFQI"
      }
    },
    {
      "cell_type": "code",
      "source": [
        "# dropna\n",
        "def missing_values(sparkdf):\n",
        "  sparkdf.select([count(when(isnan(c) | col(c).isNull(), c)).alias(c) for c in sparkdf.columns if c != 'Date']).show()\n",
        "\n",
        "import numpy as np\n",
        "from pyspark.sql import functions as F\n",
        "from pyspark.ml.feature import MinMaxScaler\n",
        "from pyspark.ml.feature import VectorAssembler\n",
        "\n",
        "#https://medium.com/@connectwithghosh/basic-data-preparation-in-pyspark-capping-normalizing-and-scaling-252ee7acba7d\n",
        "#TODO : finish\n",
        "# normalize if not same magnitude\n",
        "def normalize(df_new):\n",
        "  assembler = VectorAssembler().setInputCols\\\n",
        "              (df_new.columns).setOutputCol(\"features\")\n",
        "  transformed = assembler.transform(df_new)\n",
        "  scaler = MinMaxScaler(inputCol=\"features\",\\\n",
        "          outputCol=\"scaledFeatures\")\n",
        "  scalerModel =  scaler.fit(transformed.select(\"features\"))\n",
        "  scaledData = scalerModel.transform(transformed)\n",
        "  return scaledData\n",
        "\n",
        "# correlation between imbd and tmbd\n",
        "# avg ratings"
      ],
      "metadata": {
        "id": "XrOInyxHcHKF"
      },
      "execution_count": 6,
      "outputs": []
    },
    {
      "cell_type": "markdown",
      "source": [
        "#### Ratings"
      ],
      "metadata": {
        "id": "bgIFdAxVTqST"
      }
    },
    {
      "cell_type": "markdown",
      "source": [
        "Choses à faire dans l'analyse :\n",
        "- Regarder la distribution des valeurs de notes\n",
        "- Le prendre en compte pour l'échantillon de recommendations\n",
        "Par exemple, 3/5 sera la médiane."
      ],
      "metadata": {
        "id": "FlJRk66Sd-nr"
      }
    },
    {
      "cell_type": "code",
      "source": [
        "ratings = read(\"ratings_small.csv\")"
      ],
      "metadata": {
        "id": "CmglAMMCTpmd"
      },
      "execution_count": 9,
      "outputs": []
    },
    {
      "cell_type": "code",
      "source": [
        "ratings.show()"
      ],
      "metadata": {
        "colab": {
          "base_uri": "https://localhost:8080/"
        },
        "id": "7GKhjdPYUKEk",
        "outputId": "fa986f2c-7f22-4128-9c92-9b42be08e3ef"
      },
      "execution_count": 10,
      "outputs": [
        {
          "output_type": "stream",
          "name": "stdout",
          "text": [
            "+------+-------+------+----------+\n",
            "|userId|movieId|rating| timestamp|\n",
            "+------+-------+------+----------+\n",
            "|     1|     31|   2.5|1260759144|\n",
            "|     1|   1029|   3.0|1260759179|\n",
            "|     1|   1061|   3.0|1260759182|\n",
            "|     1|   1129|   2.0|1260759185|\n",
            "|     1|   1172|   4.0|1260759205|\n",
            "|     1|   1263|   2.0|1260759151|\n",
            "|     1|   1287|   2.0|1260759187|\n",
            "|     1|   1293|   2.0|1260759148|\n",
            "|     1|   1339|   3.5|1260759125|\n",
            "|     1|   1343|   2.0|1260759131|\n",
            "|     1|   1371|   2.5|1260759135|\n",
            "|     1|   1405|   1.0|1260759203|\n",
            "|     1|   1953|   4.0|1260759191|\n",
            "|     1|   2105|   4.0|1260759139|\n",
            "|     1|   2150|   3.0|1260759194|\n",
            "|     1|   2193|   2.0|1260759198|\n",
            "|     1|   2294|   2.0|1260759108|\n",
            "|     1|   2455|   2.5|1260759113|\n",
            "|     1|   2968|   1.0|1260759200|\n",
            "|     1|   3671|   3.0|1260759117|\n",
            "+------+-------+------+----------+\n",
            "only showing top 20 rows\n",
            "\n"
          ]
        }
      ]
    },
    {
      "cell_type": "code",
      "source": [
        "ratings.count()"
      ],
      "metadata": {
        "colab": {
          "base_uri": "https://localhost:8080/"
        },
        "id": "A-DIjaXoVln4",
        "outputId": "2b908ae9-7851-4a31-eb9a-dab46dabfdf6"
      },
      "execution_count": 11,
      "outputs": [
        {
          "output_type": "execute_result",
          "data": {
            "text/plain": [
              "100004"
            ]
          },
          "metadata": {},
          "execution_count": 11
        }
      ]
    },
    {
      "cell_type": "code",
      "source": [
        "from pyspark.sql.functions import monotonically_increasing_id\n",
        "from pyspark.sql.functions import desc, stddev, mean, min, max\n",
        "from pyspark.sql.functions import col,isnan, when, count\n",
        "from scipy.stats import pearsonr\n",
        "from pyspark.mllib.stat import Statistics\n",
        "\n",
        "missing_values(ratings)"
      ],
      "metadata": {
        "colab": {
          "base_uri": "https://localhost:8080/"
        },
        "id": "cl5j1VAIm3oU",
        "outputId": "a662d87d-b16e-4412-d374-8338b7061c43"
      },
      "execution_count": 12,
      "outputs": [
        {
          "output_type": "stream",
          "name": "stdout",
          "text": [
            "+------+-------+------+---------+\n",
            "|userId|movieId|rating|timestamp|\n",
            "+------+-------+------+---------+\n",
            "|     0|      0|     0|        0|\n",
            "+------+-------+------+---------+\n",
            "\n"
          ]
        }
      ]
    },
    {
      "cell_type": "markdown",
      "source": [
        "### Distribution des valeurs des notes"
      ],
      "metadata": {
        "id": "X0niRKkHfJAz"
      }
    },
    {
      "cell_type": "markdown",
      "source": [
        "Ratings vary from 0.5 which means the watcher hated the movie, to 5\n",
        "\n",
        "There are 100 004 movies and watchers"
      ],
      "metadata": {
        "id": "nFb5YLdOeF1q"
      }
    },
    {
      "cell_type": "code",
      "source": [
        "ratings.summary().show()"
      ],
      "metadata": {
        "colab": {
          "base_uri": "https://localhost:8080/"
        },
        "id": "Ez2i-HUAUb2S",
        "outputId": "2c9b8a6c-1f43-4b8b-c243-f71c52ef62f3"
      },
      "execution_count": 13,
      "outputs": [
        {
          "output_type": "stream",
          "name": "stdout",
          "text": [
            "+-------+------------------+------------------+------------------+--------------------+\n",
            "|summary|            userId|           movieId|            rating|           timestamp|\n",
            "+-------+------------------+------------------+------------------+--------------------+\n",
            "|  count|            100004|            100004|            100004|              100004|\n",
            "|   mean| 347.0113095476181|12548.664363425463| 3.543608255669773|1.1296390869392424E9|\n",
            "| stddev|195.16383797819535|26369.198968815268|1.0580641091070326|1.9168582602710962E8|\n",
            "|    min|                 1|                 1|               0.5|          1000003813|\n",
            "|    25%|             182.0|            1028.0|               3.0|        9.65846894E8|\n",
            "|    50%|             367.0|            2406.0|               4.0|       1.110421811E9|\n",
            "|    75%|             520.0|            5418.0|               4.0|       1.296192325E9|\n",
            "|    max|                99|             99992|               5.0|           999892199|\n",
            "+-------+------------------+------------------+------------------+--------------------+\n",
            "\n"
          ]
        }
      ]
    },
    {
      "cell_type": "markdown",
      "source": [
        "Keywords"
      ],
      "metadata": {
        "id": "Xp-eN7DSSl2O"
      }
    },
    {
      "cell_type": "code",
      "source": [
        "keywords = read(\"keywords.csv\")"
      ],
      "metadata": {
        "id": "mW8N_OQNSnwN"
      },
      "execution_count": 14,
      "outputs": []
    },
    {
      "cell_type": "markdown",
      "source": [
        "Keywords is a list of Key/value tuples"
      ],
      "metadata": {
        "id": "hjhZ2dOlfSqB"
      }
    },
    {
      "cell_type": "code",
      "source": [
        "keywords.show()"
      ],
      "metadata": {
        "colab": {
          "base_uri": "https://localhost:8080/"
        },
        "id": "REN_RGcZTW1w",
        "outputId": "f1a00293-297c-41d6-f432-2841cf0f6283"
      },
      "execution_count": 15,
      "outputs": [
        {
          "output_type": "stream",
          "name": "stdout",
          "text": [
            "+-----+--------------------+\n",
            "|   id|            keywords|\n",
            "+-----+--------------------+\n",
            "|  862|[{'id': 931, 'nam...|\n",
            "| 8844|\"[{'id': 10090, '...|\n",
            "|15602|[{'id': 1495, 'na...|\n",
            "|31357|[{'id': 818, 'nam...|\n",
            "|11862|[{'id': 1009, 'na...|\n",
            "|  949|[{'id': 642, 'nam...|\n",
            "|11860|[{'id': 90, 'name...|\n",
            "|45325|                  []|\n",
            "| 9091|[{'id': 949, 'nam...|\n",
            "|  710|[{'id': 701, 'nam...|\n",
            "| 9087|[{'id': 833, 'nam...|\n",
            "|12110|[{'id': 3633, 'na...|\n",
            "|21032|[{'id': 1994, 'na...|\n",
            "|10858|[{'id': 840, 'nam...|\n",
            "| 1408|[{'id': 911, 'nam...|\n",
            "|  524|[{'id': 383, 'nam...|\n",
            "| 4584|[{'id': 420, 'nam...|\n",
            "|    5|\"[{'id': 612, 'na...|\n",
            "| 9273|[{'id': 409, 'nam...|\n",
            "|11517|[{'id': 380, 'nam...|\n",
            "+-----+--------------------+\n",
            "only showing top 20 rows\n",
            "\n"
          ]
        }
      ]
    },
    {
      "cell_type": "code",
      "source": [
        "missing_values(keywords)"
      ],
      "metadata": {
        "colab": {
          "base_uri": "https://localhost:8080/"
        },
        "id": "Y8WC4LDsshhb",
        "outputId": "a26af414-462d-49ef-ed65-6e57aa06b894"
      },
      "execution_count": 16,
      "outputs": [
        {
          "output_type": "stream",
          "name": "stdout",
          "text": [
            "+---+--------+\n",
            "| id|keywords|\n",
            "+---+--------+\n",
            "|  0|       0|\n",
            "+---+--------+\n",
            "\n"
          ]
        }
      ]
    },
    {
      "cell_type": "markdown",
      "source": [
        "There are 46 419 keywords used to judge a movie"
      ],
      "metadata": {
        "id": "7YzjBQ1wfscx"
      }
    },
    {
      "cell_type": "code",
      "source": [
        "keywords.summary().show()"
      ],
      "metadata": {
        "colab": {
          "base_uri": "https://localhost:8080/"
        },
        "id": "aBNFxBptUwFr",
        "outputId": "9b8434c8-b1b4-47ea-ae1c-ea1c73aacac7"
      },
      "execution_count": 17,
      "outputs": [
        {
          "output_type": "stream",
          "name": "stdout",
          "text": [
            "+-------+------------------+--------------------+\n",
            "|summary|                id|            keywords|\n",
            "+-------+------------------+--------------------+\n",
            "|  count|             46419|               46419|\n",
            "|   mean|109769.95187315538|                null|\n",
            "| stddev|113045.78025568495|                null|\n",
            "|    min|               100|\"[{'id': 1005, 'n...|\n",
            "|    25%|           26809.0|                null|\n",
            "|    50%|           61178.0|                null|\n",
            "|    75%|          159897.0|                null|\n",
            "|    max|              9999|[{'id': 9991, 'na...|\n",
            "+-------+------------------+--------------------+\n",
            "\n"
          ]
        }
      ]
    },
    {
      "cell_type": "markdown",
      "source": [
        "## Links between IMDB and TMBD movies"
      ],
      "metadata": {
        "id": "nlFmoMCESiWN"
      }
    },
    {
      "cell_type": "code",
      "source": [
        "links = read(\"links_small.csv\")"
      ],
      "metadata": {
        "id": "5F-lut8fCj0O"
      },
      "execution_count": 30,
      "outputs": []
    },
    {
      "cell_type": "code",
      "source": [
        "links.show()"
      ],
      "metadata": {
        "colab": {
          "base_uri": "https://localhost:8080/"
        },
        "id": "pIkvwxW8SRW2",
        "outputId": "e40d7260-b6a3-4366-9855-d6aad37e0e5b"
      },
      "execution_count": 31,
      "outputs": [
        {
          "output_type": "stream",
          "name": "stdout",
          "text": [
            "+-------+-------+------+\n",
            "|movieId| imdbId|tmdbId|\n",
            "+-------+-------+------+\n",
            "|      1|0114709|   862|\n",
            "|      2|0113497|  8844|\n",
            "|      3|0113228| 15602|\n",
            "|      4|0114885| 31357|\n",
            "|      5|0113041| 11862|\n",
            "|      6|0113277|   949|\n",
            "|      7|0114319| 11860|\n",
            "|      8|0112302| 45325|\n",
            "|      9|0114576|  9091|\n",
            "|     10|0113189|   710|\n",
            "|     11|0112346|  9087|\n",
            "|     12|0112896| 12110|\n",
            "|     13|0112453| 21032|\n",
            "|     14|0113987| 10858|\n",
            "|     15|0112760|  1408|\n",
            "|     16|0112641|   524|\n",
            "|     17|0114388|  4584|\n",
            "|     18|0113101|     5|\n",
            "|     19|0112281|  9273|\n",
            "|     20|0113845| 11517|\n",
            "+-------+-------+------+\n",
            "only showing top 20 rows\n",
            "\n"
          ]
        }
      ]
    },
    {
      "cell_type": "code",
      "source": [
        "links.summary().show()"
      ],
      "metadata": {
        "colab": {
          "base_uri": "https://localhost:8080/"
        },
        "id": "H5H6sJi2W1T0",
        "outputId": "db58c65a-0aee-4b3d-8dbe-cfea61e12aec"
      },
      "execution_count": 32,
      "outputs": [
        {
          "output_type": "stream",
          "name": "stdout",
          "text": [
            "+-------+------------------+-----------------+-----------------+\n",
            "|summary|           movieId|           imdbId|           tmdbId|\n",
            "+-------+------------------+-----------------+-----------------+\n",
            "|  count|              9125|             9125|             9112|\n",
            "|   mean|31123.291835616437|479824.3923287671|39104.54554433714|\n",
            "| stddev| 40782.63360397416|743177.3608435562|62814.51980132846|\n",
            "|    min|                 1|          0000417|              100|\n",
            "|    25%|            2850.0|          88846.0|           9451.0|\n",
            "|    50%|            6290.0|         119778.0|          15850.0|\n",
            "|    75%|          164979.0|        5794766.0|         416437.0|\n",
            "|    max|             99992|          5794766|             9995|\n",
            "+-------+------------------+-----------------+-----------------+\n",
            "\n"
          ]
        }
      ]
    },
    {
      "cell_type": "code",
      "source": [
        "missing_values(links)"
      ],
      "metadata": {
        "colab": {
          "base_uri": "https://localhost:8080/"
        },
        "id": "_CB2nBSZswjI",
        "outputId": "0081f05f-5a9a-42cc-fe3a-5a9582cb11d1"
      },
      "execution_count": 33,
      "outputs": [
        {
          "output_type": "stream",
          "name": "stdout",
          "text": [
            "+-------+------+------+\n",
            "|movieId|imdbId|tmdbId|\n",
            "+-------+------+------+\n",
            "|      0|     0|    13|\n",
            "+-------+------+------+\n",
            "\n"
          ]
        }
      ]
    },
    {
      "cell_type": "code",
      "source": [
        "# Delete nan values\n",
        "links = links.filter(~links.tmdbId.isNull())\n",
        "links.summary().show()"
      ],
      "metadata": {
        "colab": {
          "base_uri": "https://localhost:8080/"
        },
        "id": "inRkKh6V_QHU",
        "outputId": "1f859e16-f822-492a-8648-60f965259c51"
      },
      "execution_count": 35,
      "outputs": [
        {
          "output_type": "stream",
          "name": "stdout",
          "text": [
            "+-------+------------------+------------------+-----------------+\n",
            "|summary|           movieId|            imdbId|           tmdbId|\n",
            "+-------+------------------+------------------+-----------------+\n",
            "|  count|              9112|              9112|             9112|\n",
            "|   mean|31104.671861281826|479826.15046093066|39104.54554433714|\n",
            "| stddev| 40775.25279748233| 743376.3730049542|62814.51980132846|\n",
            "|    min|                 1|           0000417|              100|\n",
            "|    25%|            2850.0|           88814.0|           9451.0|\n",
            "|    50%|            6287.0|          119783.0|          15850.0|\n",
            "|    75%|          164979.0|         5794766.0|         416437.0|\n",
            "|    max|             99992|           5794766|             9995|\n",
            "+-------+------------------+------------------+-----------------+\n",
            "\n"
          ]
        }
      ]
    },
    {
      "cell_type": "markdown",
      "source": [
        "Metadata \n",
        "\n",
        "\n",
        "*   Belongs to Collection\n",
        "*   Budget\n",
        "*   Genres\n",
        "*   Homepage\n",
        "*   Original Language\n",
        "*   Adult of Not\n",
        "*   Original Title\n",
        "*   Overview\n",
        "*   Popularity\n",
        "*   Poster Path\n",
        "*   Production Companies\n",
        "*   Production Countries\n",
        "*   Release Date\n",
        "*   Revenue\n",
        "*   Runtime\n",
        "*   Spoken Languages\n",
        "*   Status (released)\n",
        "*   Tagline\n",
        "*   Title\n",
        "*   Video\n",
        "*   Vote Average\n",
        "*   Vote Count\n",
        "\n"
      ],
      "metadata": {
        "id": "uL5N163dAW_M"
      }
    },
    {
      "cell_type": "code",
      "source": [
        "movies_metadata = read(\"movies_metadata.csv\")\n",
        "movies_metadata.show()"
      ],
      "metadata": {
        "colab": {
          "base_uri": "https://localhost:8080/"
        },
        "id": "gPSn0lV_Xm3G",
        "outputId": "25f03bea-b221-4fad-fd4d-aec4cda08893"
      },
      "execution_count": 54,
      "outputs": [
        {
          "output_type": "stream",
          "name": "stdout",
          "text": [
            "+-----+---------------------+--------+--------------------+--------------------+-----+---------+-----------------+--------------------+--------------------+----------+--------------------+--------------------+--------------------+--------------------+--------------------+--------------------+--------------------+--------+--------------------+--------------------+--------+--------------------+-----------------+\n",
            "|adult|belongs_to_collection|  budget|              genres|            homepage|   id|  imdb_id|original_language|      original_title|            overview|popularity|         poster_path|production_companies|production_countries|        release_date|             revenue|             runtime|    spoken_languages|  status|             tagline|               title|   video|        vote_average|       vote_count|\n",
            "+-----+---------------------+--------+--------------------+--------------------+-----+---------+-----------------+--------------------+--------------------+----------+--------------------+--------------------+--------------------+--------------------+--------------------+--------------------+--------------------+--------+--------------------+--------------------+--------+--------------------+-----------------+\n",
            "|False| {'id': 10194, 'na...|30000000|[{'id': 16, 'name...|http://toystory.d...|  862|tt0114709|               en|           Toy Story|Led by Woody, And...| 21.946943|/rhIRbceoE9lR4veE...|[{'name': 'Pixar ...|[{'iso_3166_1': '...|          1995-10-30|           373554033|                81.0|[{'iso_639_1': 'e...|Released|                null|           Toy Story|   False|                 7.7|             5415|\n",
            "|False|                 null|65000000|[{'id': 12, 'name...|                null| 8844|tt0113497|               en|             Jumanji|When siblings Jud...| 17.015539|/vzmL6fP7aPKNKPRT...|[{'name': 'TriSta...|[{'iso_3166_1': '...|          1995-12-15|           262797249|               104.0|[{'iso_639_1': 'e...|Released|Roll the dice and...|             Jumanji|   False|                 6.9|             2413|\n",
            "|False| {'id': 119050, 'n...|       0|[{'id': 10749, 'n...|                null|15602|tt0113228|               en|    Grumpier Old Men|A family wedding ...|   11.7129|/6ksm1sjKMFLbO7UY...|[{'name': 'Warner...|[{'iso_3166_1': '...|          1995-12-22|                   0|               101.0|[{'iso_639_1': 'e...|Released|Still Yelling. St...|    Grumpier Old Men|   False|                 6.5|               92|\n",
            "|False|                 null|16000000|[{'id': 35, 'name...|                null|31357|tt0114885|               en|   Waiting to Exhale|\"Cheated on, mist...|    Bernie| Glo and Robin ta...| determined to fi...|            3.859495|/16XOMpEaLWkrcPqS...|[{'name': 'Twenti...|[{'iso_3166_1': '...|          1995-12-22|81452156|               127.0|[{'iso_639_1': 'e...|Released|Friends are the p...|Waiting to Exhale|\n",
            "|False| {'id': 96871, 'na...|       0|[{'id': 35, 'name...|                null|11862|tt0113041|               en|Father of the Bri...|Just when George ...|  8.387519|/e64sOI48hQXyru7n...|[{'name': 'Sandol...|[{'iso_3166_1': '...|          1995-02-10|            76578911|               106.0|[{'iso_639_1': 'e...|Released|Just When His Wor...|Father of the Bri...|   False|                 5.7|              173|\n",
            "|False|                 null|60000000|[{'id': 28, 'name...|                null|  949|tt0113277|               en|                Heat|Obsessive master ...| 17.924927|/zMyfPUelumio3tiD...|[{'name': 'Regenc...|[{'iso_3166_1': '...|          1995-12-15|           187436818|               170.0|[{'iso_639_1': 'e...|Released|A Los Angeles Cri...|                Heat|   False|                 7.7|             1886|\n",
            "|False|                 null|58000000|[{'id': 35, 'name...|                null|11860|tt0114319|               en|             Sabrina|An ugly duckling ...|  6.677277|/jQh15y5YB7bWz1Nt...|[{'name': 'Paramo...|[{'iso_3166_1': '...|          1995-12-15|                   0|               127.0|[{'iso_639_1': 'f...|Released|You are cordially...|             Sabrina|   False|                 6.2|              141|\n",
            "|False|                 null|       0|[{'id': 28, 'name...|                null|45325|tt0112302|               en|        Tom and Huck|A mischievous you...|  2.561161|/sGO5Qa55p7wTu7FJ...|[{'name': 'Walt D...|[{'iso_3166_1': '...|          1995-12-22|                   0|                97.0|[{'iso_639_1': 'e...|Released|The Original Bad ...|        Tom and Huck|   False|                 5.4|               45|\n",
            "|False|                 null|35000000|[{'id': 28, 'name...|                null| 9091|tt0114576|               en|        Sudden Death|International act...|   5.23158|/eoWvKD60lT95Ss1M...|[{'name': 'Univer...|[{'iso_3166_1': '...|          1995-12-22|            64350171|               106.0|[{'iso_639_1': 'e...|Released|Terror goes into ...|        Sudden Death|   False|                 5.5|              174|\n",
            "|False| {'id': 645, 'name...|58000000|[{'id': 12, 'name...|http://www.mgm.co...|  710|tt0113189|               en|           GoldenEye|James Bond must u...| 14.686036|/5c0ovjT41KnYIHYu...|[{'name': 'United...|[{'iso_3166_1': '...|          1995-11-16|           352194034|               130.0|[{'iso_639_1': 'e...|Released|No limits. No fea...|           GoldenEye|   False|                 6.6|             1194|\n",
            "|False|                 null|62000000|[{'id': 35, 'name...|                null| 9087|tt0112346|               en|The American Pres...|Widowed U.S. pres...|  6.318445|/lymPNGLZgPHuqM29...|[{'name': 'Columb...|[{'iso_3166_1': '...|          1995-11-17|           107879496|               106.0|[{'iso_639_1': 'e...|Released|Why can't the mos...|The American Pres...|   False|                 6.5|              199|\n",
            "|False|                 null|       0|[{'id': 35, 'name...|                null|12110|tt0112896|               en|Dracula: Dead and...|When a lawyer sho...|  5.430331|/xve4cgfYItnOhtzL...|[{'name': 'Columb...|[{'iso_3166_1': '...|          1995-12-22|                   0|                88.0|[{'iso_639_1': 'e...|Released|                null|Dracula: Dead and...|   False|                 5.7|              210|\n",
            "|False| {'id': 117693, 'n...|       0|[{'id': 10751, 'n...|                null|21032|tt0112453|               en|               Balto|An outcast half-w...| 12.140733|/gV5PCAVCPNxlOLFM...|[{'name': 'Univer...|[{'iso_3166_1': '...|          1995-12-22|            11348324|                78.0|[{'iso_639_1': 'e...|Released|Part Dog. Part Wo...|               Balto|   False|                 7.1|              423|\n",
            "|False|                 null|44000000|[{'id': 36, 'name...|                null|10858|tt0113987|               en|               Nixon|An all-star cast ...|     5.092|/cICkmCEiXRhvZmbu...|[{'name': 'Hollyw...|[{'iso_3166_1': '...|          1995-12-22|            13681765|               192.0|[{'iso_639_1': 'e...|Released|Triumphant in Vic...|               Nixon|   False|                 7.1|               72|\n",
            "|False|                 null|98000000|[{'id': 28, 'name...|                null| 1408|tt0112760|               en|    Cutthroat Island|Morgan Adams and ...|  7.284477|/odM9973kIv9hcjfH...|[{'name': 'Le Stu...|[{'iso_3166_1': '...|          1995-12-22|            10017322|               119.0|[{'iso_639_1': 'e...|Released|The Course Has Be...|    Cutthroat Island|   False|                 5.7|              137|\n",
            "|False|                 null|52000000|[{'id': 18, 'name...|                null|  524|tt0112641|               en|              Casino|The life of the g...| 10.137389|/xo517ibXBDdYQY81...|[{'name': 'Univer...|[{'iso_3166_1': '...|          1995-11-22|           116112375|               178.0|[{'iso_639_1': 'e...|Released|No one stays at t...|              Casino|   False|                 7.8|             1343|\n",
            "|False|                 null|16500000|[{'id': 18, 'name...|                null| 4584|tt0114388|               en|Sense and Sensibi...|Rich Mr. Dashwood...| 10.673167|/lA9HTy84Bb6ZwNey...|[{'name': 'Columb...|[{'iso_3166_1': '...|          1995-12-13|           135000000|               136.0|[{'iso_639_1': 'e...|Released|Lose your heart a...|Sense and Sensibi...|   False|                 7.2|              364|\n",
            "|False|                 null| 4000000|[{'id': 80, 'name...|                null|    5|tt0113101|               en|          Four Rooms|It's Ted the Bell...|  9.026586|/eQs5hh9rxrk1m4xH...|[{'name': 'Mirama...|[{'iso_3166_1': '...|          1995-12-09|             4300000|                98.0|[{'iso_639_1': 'e...|Released|Twelve outrageous...|          Four Rooms|   False|                 6.5|              539|\n",
            "|False| {'id': 3167, 'nam...|30000000|[{'id': 80, 'name...|                null| 9273|tt0112281|               en|Ace Ventura: When...|Summoned from an ...|  8.205448|/wRlGnJhEzcxBjvWt...|[{'name': 'O Ente...|[{'iso_3166_1': '...|          1995-11-10|           212385533|                90.0|[{'iso_639_1': 'e...|Released|New animals. New ...|Ace Ventura: When...|   False|                 6.1|             1128|\n",
            "|False|                 null|60000000|[{'id': 28, 'name...|                null|11517|tt0113845|               en|         Money Train|A vengeful New Yo...|  7.337906|/jSozzzVOR2kfXgTU...|[{'name': 'Columb...|[{'iso_3166_1': '...|          1995-11-21|            35431113|               103.0|[{'iso_639_1': 'e...|Released|Get on, or GET OU...|         Money Train|   False|                 5.4|              224|\n",
            "+-----+---------------------+--------+--------------------+--------------------+-----+---------+-----------------+--------------------+--------------------+----------+--------------------+--------------------+--------------------+--------------------+--------------------+--------------------+--------------------+--------+--------------------+--------------------+--------+--------------------+-----------------+\n",
            "only showing top 20 rows\n",
            "\n"
          ]
        }
      ]
    },
    {
      "cell_type": "code",
      "source": [
        "movies_metadata.summary().show()"
      ],
      "metadata": {
        "colab": {
          "base_uri": "https://localhost:8080/"
        },
        "id": "RUFC_4LzBIJE",
        "outputId": "0b66b8bd-9aff-4c5d-fb58-cc5c37e20eb2"
      },
      "execution_count": 55,
      "outputs": [
        {
          "output_type": "stream",
          "name": "stdout",
          "text": [
            "+-------+-------------------+---------------------+--------------------+--------------------+--------------------+--------------------+--------------------+------------------+-----------------------------------+--------------------+--------------------+--------------------+--------------------+--------------------+--------------------+--------------------+--------------------+--------------------+--------------------+--------------------+---------------+------------------+------------------+--------------------+\n",
            "|summary|              adult|belongs_to_collection|              budget|              genres|            homepage|                  id|             imdb_id| original_language|                     original_title|            overview|          popularity|         poster_path|production_companies|production_countries|        release_date|             revenue|             runtime|    spoken_languages|              status|             tagline|          title|             video|      vote_average|          vote_count|\n",
            "+-------+-------------------+---------------------+--------------------+--------------------+--------------------+--------------------+--------------------+------------------+-----------------------------------+--------------------+--------------------+--------------------+--------------------+--------------------+--------------------+--------------------+--------------------+--------------------+--------------------+--------------------+---------------+------------------+------------------+--------------------+\n",
            "|  count|              45572|                 4591|               45555|               45549|                7937|               45541|               45447|             45527|                              45540|               44587|               45452|               45091|               45448|               45452|               45378|               45436|               45168|               45408|               45327|               22440|          44794|             45019|             45074|               45183|\n",
            "|   mean|               null|   1.5354219545454546|   4203051.501341431|  1.3762527647058822|  1.20138598385652E7|  108472.07353084827|  3192598.2306698407|40425.985977624114|                           Infinity|   61.84533946428571|  3.1106206005800416|    46144.4398346031|  3.5551602112125193|   2.744871749529189|   9.423253799999996|1.1206018808585253E7|  293405.09809016186|   5608877.629380201|   2768004.114455496|   3069067.330101197|       Infinity|254436.28771001368|20598.944891606156|     4478.2556262012|\n",
            "| stddev|               null|   2.8947605310025293|1.7390388213250447E7|  1.4278676612523276|2.5757755423365697E7|  112491.49204501462|1.5959850652741542E7| 75151.75502384249|                                NaN|   52.90864238731892|  17.895195212421676|  1374126.2186866328|   7.798204492777607|    5.13682109842022|  102.16439163497273|6.4880927370764084E7|    9024684.88285565| 3.837398626293824E7|1.9379730911569547E7| 4.092906602844209E7|            NaN|2549120.9999266504| 2176632.420832573|   389883.2986878286|\n",
            "|    min| (Post-apocalypse)\"|  \"\"NO DOWN PAYMEN...| \"\"The Adventure ...|  \"\"His Last Bow\"\".\"| 'backdrop_path':...|              1978.\"|             252 252|    Rachel Roberts|                        Janice Rule|                    | \"\" a fearful soc...|  Simon Sparrow's...| \"\"A Woman in the...|  The Kentucky Fr...|  and Saturday Ni...| \"\"An Affirmative...| \"\"Prosecuting Ca...| \"\"Slave of Love\"...| \"\"Nightmare on E...| \"\"Playboy After ...|               |      'id': 10254}|      \"\"Raw Deal\"\"| \"\"Taking Chances...|\n",
            "|    25%|               null|             0.057375|                 0.0|            0.445493|                 0.0|             26516.0|                 0.0|             131.0|                                4.0|                 0.0|            0.389144|            0.327614|            0.494284|            0.312089|            0.350938|                 0.0|                84.0|                 0.0|                 0.0|                 0.0|            0.0|               0.0|               5.0|                 3.0|\n",
            "|    50%|               null|             0.152869|                 0.0|            0.640779|                 0.0|             60080.0|                 0.0|           11179.0|                               42.0|                79.0|            1.136578|            1.105624|            1.319694|            1.065865|                 1.0|                 0.0|                94.0|                84.0|                78.0|                83.0|           67.0|              85.0|               6.0|                 9.0|\n",
            "|    75%|               null|             1.931659|                 0.0|            1.362069|               1.0E7|            157384.0|                 0.0|           36996.0|                             1066.0|               106.0|            3.742824|            3.744449|            4.423289|            3.859495|                 3.0|                 0.0|               106.0|               101.0|                98.0|               101.0|          101.0|             100.0|               6.8|                34.0|\n",
            "|    max|               True| {'id': 99727, 'na...|              998000|[{'name': 'WhiteF...|https://zeitgeist...|[{'name': 'Warner...|           tt7158814|                zu|ＳＭガールズ セイバーマリオネットＲ|…ere erera baleib...|                귀향|” takes the trope...|who lives with ec...|if you like Japan...|Приключения Шерло...|[{'name': 'Ритм',...|” \"\"Revue\"\" illus...|[{'name': 'mark e...|violence and non-...|    李麗珍蜜桃成熟時|劇場版 クラナド|         ¡Cuba Sí!|        Üvegtigris|       Убить дракона|\n",
            "+-------+-------------------+---------------------+--------------------+--------------------+--------------------+--------------------+--------------------+------------------+-----------------------------------+--------------------+--------------------+--------------------+--------------------+--------------------+--------------------+--------------------+--------------------+--------------------+--------------------+--------------------+---------------+------------------+------------------+--------------------+\n",
            "\n"
          ]
        }
      ]
    },
    {
      "cell_type": "code",
      "source": [
        "missing_values(movies_metadata)"
      ],
      "metadata": {
        "id": "EvmAjxckbACX",
        "colab": {
          "base_uri": "https://localhost:8080/",
          "height": 311
        },
        "outputId": "3d64520f-45e7-497b-f9d4-26ec6226599d"
      },
      "execution_count": 56,
      "outputs": [
        {
          "output_type": "error",
          "ename": "TypeError",
          "evalue": "ignored",
          "traceback": [
            "\u001b[0;31m---------------------------------------------------------------------------\u001b[0m",
            "\u001b[0;31mTypeError\u001b[0m                                 Traceback (most recent call last)",
            "\u001b[0;32m<ipython-input-56-634337fef07e>\u001b[0m in \u001b[0;36m<module>\u001b[0;34m\u001b[0m\n\u001b[0;32m----> 1\u001b[0;31m \u001b[0mmissing_values\u001b[0m\u001b[0;34m(\u001b[0m\u001b[0mmovies_metadata\u001b[0m\u001b[0;34m)\u001b[0m\u001b[0;34m\u001b[0m\u001b[0;34m\u001b[0m\u001b[0m\n\u001b[0m",
            "\u001b[0;32m<ipython-input-6-5a29bb327444>\u001b[0m in \u001b[0;36mmissing_values\u001b[0;34m(sparkdf)\u001b[0m\n\u001b[1;32m      1\u001b[0m \u001b[0;31m# dropna\u001b[0m\u001b[0;34m\u001b[0m\u001b[0;34m\u001b[0m\u001b[0;34m\u001b[0m\u001b[0m\n\u001b[1;32m      2\u001b[0m \u001b[0;32mdef\u001b[0m \u001b[0mmissing_values\u001b[0m\u001b[0;34m(\u001b[0m\u001b[0msparkdf\u001b[0m\u001b[0;34m)\u001b[0m\u001b[0;34m:\u001b[0m\u001b[0;34m\u001b[0m\u001b[0;34m\u001b[0m\u001b[0m\n\u001b[0;32m----> 3\u001b[0;31m   \u001b[0msparkdf\u001b[0m\u001b[0;34m.\u001b[0m\u001b[0mselect\u001b[0m\u001b[0;34m(\u001b[0m\u001b[0;34m[\u001b[0m\u001b[0mcount\u001b[0m\u001b[0;34m(\u001b[0m\u001b[0mwhen\u001b[0m\u001b[0;34m(\u001b[0m\u001b[0misnan\u001b[0m\u001b[0;34m(\u001b[0m\u001b[0mc\u001b[0m\u001b[0;34m)\u001b[0m \u001b[0;34m|\u001b[0m \u001b[0mcol\u001b[0m\u001b[0;34m(\u001b[0m\u001b[0mc\u001b[0m\u001b[0;34m)\u001b[0m\u001b[0;34m.\u001b[0m\u001b[0misNull\u001b[0m\u001b[0;34m(\u001b[0m\u001b[0;34m)\u001b[0m\u001b[0;34m,\u001b[0m \u001b[0mc\u001b[0m\u001b[0;34m)\u001b[0m\u001b[0;34m)\u001b[0m\u001b[0;34m.\u001b[0m\u001b[0malias\u001b[0m\u001b[0;34m(\u001b[0m\u001b[0mc\u001b[0m\u001b[0;34m)\u001b[0m \u001b[0;32mfor\u001b[0m \u001b[0mc\u001b[0m \u001b[0;32min\u001b[0m \u001b[0msparkdf\u001b[0m\u001b[0;34m.\u001b[0m\u001b[0mcolumns\u001b[0m \u001b[0;32mif\u001b[0m \u001b[0mc\u001b[0m \u001b[0;34m!=\u001b[0m \u001b[0;34m'Date'\u001b[0m\u001b[0;34m]\u001b[0m\u001b[0;34m)\u001b[0m\u001b[0;34m.\u001b[0m\u001b[0mshow\u001b[0m\u001b[0;34m(\u001b[0m\u001b[0;34m)\u001b[0m\u001b[0;34m\u001b[0m\u001b[0;34m\u001b[0m\u001b[0m\n\u001b[0m\u001b[1;32m      4\u001b[0m \u001b[0;34m\u001b[0m\u001b[0m\n\u001b[1;32m      5\u001b[0m \u001b[0;32mimport\u001b[0m \u001b[0mnumpy\u001b[0m \u001b[0;32mas\u001b[0m \u001b[0mnp\u001b[0m\u001b[0;34m\u001b[0m\u001b[0;34m\u001b[0m\u001b[0m\n",
            "\u001b[0;32m<ipython-input-6-5a29bb327444>\u001b[0m in \u001b[0;36m<listcomp>\u001b[0;34m(.0)\u001b[0m\n\u001b[1;32m      1\u001b[0m \u001b[0;31m# dropna\u001b[0m\u001b[0;34m\u001b[0m\u001b[0;34m\u001b[0m\u001b[0;34m\u001b[0m\u001b[0m\n\u001b[1;32m      2\u001b[0m \u001b[0;32mdef\u001b[0m \u001b[0mmissing_values\u001b[0m\u001b[0;34m(\u001b[0m\u001b[0msparkdf\u001b[0m\u001b[0;34m)\u001b[0m\u001b[0;34m:\u001b[0m\u001b[0;34m\u001b[0m\u001b[0;34m\u001b[0m\u001b[0m\n\u001b[0;32m----> 3\u001b[0;31m   \u001b[0msparkdf\u001b[0m\u001b[0;34m.\u001b[0m\u001b[0mselect\u001b[0m\u001b[0;34m(\u001b[0m\u001b[0;34m[\u001b[0m\u001b[0mcount\u001b[0m\u001b[0;34m(\u001b[0m\u001b[0mwhen\u001b[0m\u001b[0;34m(\u001b[0m\u001b[0misnan\u001b[0m\u001b[0;34m(\u001b[0m\u001b[0mc\u001b[0m\u001b[0;34m)\u001b[0m \u001b[0;34m|\u001b[0m \u001b[0mcol\u001b[0m\u001b[0;34m(\u001b[0m\u001b[0mc\u001b[0m\u001b[0;34m)\u001b[0m\u001b[0;34m.\u001b[0m\u001b[0misNull\u001b[0m\u001b[0;34m(\u001b[0m\u001b[0;34m)\u001b[0m\u001b[0;34m,\u001b[0m \u001b[0mc\u001b[0m\u001b[0;34m)\u001b[0m\u001b[0;34m)\u001b[0m\u001b[0;34m.\u001b[0m\u001b[0malias\u001b[0m\u001b[0;34m(\u001b[0m\u001b[0mc\u001b[0m\u001b[0;34m)\u001b[0m \u001b[0;32mfor\u001b[0m \u001b[0mc\u001b[0m \u001b[0;32min\u001b[0m \u001b[0msparkdf\u001b[0m\u001b[0;34m.\u001b[0m\u001b[0mcolumns\u001b[0m \u001b[0;32mif\u001b[0m \u001b[0mc\u001b[0m \u001b[0;34m!=\u001b[0m \u001b[0;34m'Date'\u001b[0m\u001b[0;34m]\u001b[0m\u001b[0;34m)\u001b[0m\u001b[0;34m.\u001b[0m\u001b[0mshow\u001b[0m\u001b[0;34m(\u001b[0m\u001b[0;34m)\u001b[0m\u001b[0;34m\u001b[0m\u001b[0;34m\u001b[0m\u001b[0m\n\u001b[0m\u001b[1;32m      4\u001b[0m \u001b[0;34m\u001b[0m\u001b[0m\n\u001b[1;32m      5\u001b[0m \u001b[0;32mimport\u001b[0m \u001b[0mnumpy\u001b[0m \u001b[0;32mas\u001b[0m \u001b[0mnp\u001b[0m\u001b[0;34m\u001b[0m\u001b[0;34m\u001b[0m\u001b[0m\n",
            "\u001b[0;31mTypeError\u001b[0m: 'str' object is not callable"
          ]
        }
      ]
    },
    {
      "cell_type": "code",
      "source": [
        "# delete missing values\n",
        "movies_metadata = movies_metadata.na.drop(thresh=24, how='all')"
      ],
      "metadata": {
        "id": "vMVwHLTcBr_n"
      },
      "execution_count": 59,
      "outputs": []
    },
    {
      "cell_type": "code",
      "source": [
        "movies_metadata.show()"
      ],
      "metadata": {
        "colab": {
          "base_uri": "https://localhost:8080/"
        },
        "id": "Z_6SLnNVIIlY",
        "outputId": "7fef5374-63c0-4ea8-e862-fb163e0762e1"
      },
      "execution_count": 60,
      "outputs": [
        {
          "output_type": "stream",
          "name": "stdout",
          "text": [
            "+-----+---------------------+--------+--------------------+--------------------+-----+---------+-----------------+--------------------+--------------------+----------+--------------------+--------------------+--------------------+------------+---------+-------+--------------------+--------+--------------------+--------------------+-----+------------+----------+\n",
            "|adult|belongs_to_collection|  budget|              genres|            homepage|   id|  imdb_id|original_language|      original_title|            overview|popularity|         poster_path|production_companies|production_countries|release_date|  revenue|runtime|    spoken_languages|  status|             tagline|               title|video|vote_average|vote_count|\n",
            "+-----+---------------------+--------+--------------------+--------------------+-----+---------+-----------------+--------------------+--------------------+----------+--------------------+--------------------+--------------------+------------+---------+-------+--------------------+--------+--------------------+--------------------+-----+------------+----------+\n",
            "|False| {'id': 645, 'name...|58000000|[{'id': 12, 'name...|http://www.mgm.co...|  710|tt0113189|               en|           GoldenEye|James Bond must u...| 14.686036|/5c0ovjT41KnYIHYu...|[{'name': 'United...|[{'iso_3166_1': '...|  1995-11-16|352194034|  130.0|[{'iso_639_1': 'e...|Released|No limits. No fea...|           GoldenEye|False|         6.6|      1194|\n",
            "|False| {'id': 43563, 'na...| 3500000|[{'id': 35, 'name...|http://www.newlin...|10634|tt0113118|               en|              Friday|Craig and Smokey ...|  14.56965|/kkoGT4bnK5oGiNbz...|[{'name': 'New Li...|[{'iso_3166_1': '...|  1995-04-26| 28215918|   91.0|[{'iso_639_1': 'e...|Released|A lot can go down...|              Friday|False|         7.0|       513|\n",
            "|False| {'id': 10924, 'na...|19000000|[{'id': 27, 'name...|http://www.mirama...|  755|tt0116367|               en| From Dusk Till Dawn|Seth Gecko and hi...| 15.339153|/ce0d4kM5KxT4x1Oq...|[{'name': 'A Band...|[{'iso_3166_1': '...|  1996-01-19| 25836616|  108.0|[{'iso_639_1': 'e...|Released|One night is all ...| From Dusk Till Dawn|False|         6.9|      1644|\n",
            "|False| {'id': 439053, 'n...| 2000000|[{'id': 35, 'name...|http://miramax.co...| 5894|tt0112541|               en|    Blue in the Face|Auggie runs a sma...| 11.528147|/qa9yf3OlfXbYBb0a...|[{'name': 'Mirama...|[{'iso_3166_1': '...|  1995-09-15|  1275000|   83.0|[{'iso_639_1': 'e...|Released|Welcome to the pl...|    Blue in the Face|False|         6.8|        28|\n",
            "|False| {'id': 286162, 'n...|15000000|[{'id': 28, 'name...|http://www.powerr...| 9070|tt0113820|               en|Mighty Morphin Po...|Power up with six...|  7.024227|/A3ijhraMN0tvpDnP...|[{'name': 'Twenti...|[{'iso_3166_1': '...|  1995-06-30| 66000000|   92.0|[{'iso_639_1': 'e...|Released|    The Power Is On!|Mighty Morphin Po...|False|         5.2|       153|\n",
            "|False| {'id': 182813, 'n...|   27000|[{'id': 35, 'name...|http://www.mirama...| 2292|tt0109445|               en|              Clerks|Convenience and v...| 10.513367|/dmNytzvQTjylI83q...|[{'name': 'Mirama...|[{'iso_3166_1': '...|  1994-09-13|  3151130|   92.0|[{'iso_639_1': 'e...|Released|Just because they...|              Clerks|False|         7.4|       769|\n",
            "|False| {'id': 10, 'name'...|11000000|[{'id': 12, 'name...|http://www.starwa...|   11|tt0076759|               en|           Star Wars|Princess Leia is ...| 42.149697|/btTdmkgIvOi0FFip...|[{'name': 'Lucasf...|[{'iso_3166_1': '...|  1977-05-25|775398007|  121.0|[{'iso_639_1': 'e...|Released|A long time ago i...|           Star Wars|False|         8.1|      6778|\n",
            "|False| {'id': 144200, 'n...|35000000|[{'id': 16, 'name...|http://www.sonypi...|22586|tt0111333|               en|   The Swan Princess|The beautiful pri...|  8.910462|/oYp2bckWNBKOIbzn...|[{'name': 'Rich A...|[{'iso_3166_1': '...|  1994-11-18|  9771658|   89.0|[{'iso_639_1': 'e...|Released|An enchanting cla...|   The Swan Princess|False|         6.5|       251|\n",
            "|False| {'id': 94032, 'na...|45000000|[{'id': 10751, 'n...|http://movies.dis...| 8587|tt0110357|               en|       The Lion King|A young lion cub ...| 21.605761|/bKPtXn9n4M4s8vvZ...|[{'name': 'Walt D...|[{'iso_3166_1': '...|  1994-06-23|788241776|   89.0|[{'iso_639_1': 'e...|Released|Life's greatest a...|       The Lion King|False|         8.0|      5520|\n",
            "|False| {'id': 328, 'name...|63000000|[{'id': 12, 'name...|http://www.jurass...|  329|tt0107290|               en|       Jurassic Park|A wealthy entrepr...|  8.863776|/c414cDeQ9b6qLPLe...|[{'name': 'Univer...|[{'iso_3166_1': '...|  1993-06-11|920100000|  127.0|[{'iso_639_1': 'e...|Released|An adventure 65 m...|       Jurassic Park|False|         7.6|      4956|\n",
            "|False| {'id': 422837, 'n...|28000000|[{'id': 878, 'nam...|http://www.warner...|   78|tt0083658|               en|        Blade Runner|In the smog-choke...| 96.272374|/p64TtbZGCElxQHpA...|[{'name': 'Shaw B...|[{'iso_3166_1': '...|  1982-06-25| 33139618|  117.0|[{'iso_639_1': 'e...|Released|Man has made his ...|        Blade Runner|False|         7.9|      3833|\n",
            "|False| {'id': 9888, 'nam...|18000000|[{'id': 35, 'name...|https://www.foxco...|  771|tt0099785|               en|          Home Alone|Eight-year-old Ke...|  0.702543|/8IWPBT1rkAaI8Kpk...|[{'name': 'Twenti...|[{'iso_3166_1': '...|  1990-11-09|476684675|  103.0|[{'iso_639_1': 'e...|Released|A Family Comedy W...|          Home Alone|False|         7.1|      2487|\n",
            "|False| {'id': 86027, 'na...|28000000|[{'id': 16, 'name...|http://movies.dis...|  812|tt0103639|               en|             Aladdin|Princess Jasmine ...| 16.357419|/7f53XAE4nPiGe9Xp...|[{'name': 'Walt D...|[{'iso_3166_1': '...|  1992-11-25|504050219|   90.0|[{'iso_639_1': 'e...|Released|       Wish granted!|             Aladdin|False|         7.4|      3495|\n",
            "|False| {'id': 153010, 'n...|25000000|[{'id': 10749, 'n...|http://disney.go....|10020|tt0101414|               en|Beauty and the Beast|Follow the advent...| 23.433511|/b9QJr2oblOu1grgO...|[{'name': 'Walt D...|[{'iso_3166_1': '...|  1991-11-13|377350553|   84.0|[{'iso_639_1': 'f...|Released|The most beautifu...|Beauty and the Beast|False|         7.5|      3029|\n",
            "|False| {'id': 87359, 'na...|80000000|[{'id': 12, 'name...|http://www.missio...|  954|tt0117060|               en| Mission: Impossible|When Ethan Hunt, ...| 15.793477|/vmj2PzTLC6xJvshp...|[{'name': 'Paramo...|[{'iso_3166_1': '...|  1996-05-22|457696359|  110.0|[{'iso_639_1': 'e...|Released|Expect the Imposs...| Mission: Impossible|False|         6.7|      2677|\n",
            "|False| {'id': 529, 'name...|       0|[{'id': 10751, 'n...|http://www.wallac...|  532|tt0112691|               en|       A Close Shave|Wallace falls in ...|  6.796858|/efFW4euBJIha6WVJ...|[{'name': 'Aardma...|[{'iso_3166_1': '...|  1995-12-24|        0|   30.0|[{'iso_639_1': 'e...|Released|From the Oscar-wi...|       A Close Shave|False|         7.5|       223|\n",
            "|False| {'id': 303969, 'n...|       0|[{'id': 18, 'name...|http://worldcinem...|77771|tt0070820|               wo|         Touki-Bouki|A cowherd with a ...|  0.043903|/che94e6wSm9TWLun...|[{'name': 'Studio...|[{'iso_3166_1': '...|  1973-07-01|        0|   85.0|[{'iso_639_1': 'a...|Released|The Journey of th...|         Touki Bouki|False|         7.3|        10|\n",
            "|False| {'id': 424202, 'n...| 4000000|[{'id': 18, 'name...|http://www.mirama...|  627|tt0117951|               en|       Trainspotting|Renton, deeply im...| 19.348466|/p1O3eFsdb0GEIYu8...|[{'name': 'Mirama...|[{'iso_3166_1': '...|  1996-02-23| 16491080|   93.0|[{'iso_639_1': 'e...|Released|        Choose life.|       Trainspotting|False|         7.8|      2737|\n",
            "|False| {'id': 115838, 'n...|50000000|[{'id': 28, 'name...|http://www.theoff...|10061|tt0116225|               en|    Escape from L.A.|This time, a cata...| 12.229381|/rAjz6XFC6Zs07ora...|[{'name': 'Paramo...|[{'iso_3166_1': '...|  1996-08-09| 42277365|   97.0|[{'iso_639_1': 'e...|Released|      Snake Is Back.|    Escape from L.A.|False|         5.6|       381|\n",
            "|False| {'id': 230, 'name...| 6000000|[{'id': 18, 'name...|http://www.thegod...|  238|tt0068646|               en|       The Godfather|Spanning the year...| 41.109264|/rPdtLWNsZmAtoZl9...|[{'name': 'Paramo...|[{'iso_3166_1': '...|  1972-03-14|245066411|  175.0|[{'iso_639_1': 'e...|Released|An offer you can'...|       The Godfather|False|         8.5|      6024|\n",
            "+-----+---------------------+--------+--------------------+--------------------+-----+---------+-----------------+--------------------+--------------------+----------+--------------------+--------------------+--------------------+------------+---------+-------+--------------------+--------+--------------------+--------------------+-----+------------+----------+\n",
            "only showing top 20 rows\n",
            "\n"
          ]
        }
      ]
    },
    {
      "cell_type": "markdown",
      "source": [
        "2. Predict Movie Revenues and Vote averages"
      ],
      "metadata": {
        "id": "aHXezxh6BvH9"
      }
    },
    {
      "cell_type": "code",
      "source": [
        "from pyspark.ml.regression import LinearRegression\n",
        "model = LinearRegression()\n"
      ],
      "metadata": {
        "id": "3RQUzA1JBuqJ"
      },
      "execution_count": 41,
      "outputs": []
    },
    {
      "cell_type": "code",
      "source": [
        "# analysis of revenues\n",
        "import matplotlib.pyplot as plt\n",
        "import seaborn as sb\n",
        "\n",
        "\n",
        "#movies_metadata.select('revenue') = movies_metadata.select('revenue').str[1:]\n",
        "  \n",
        "for col in ['revenue', 'release_date']:\n",
        "    movies_metadata[col] = movies_metadata[col].str.replace(',', '')\n",
        "  \n",
        "    # Selecting rows with no null values\n",
        "    # in the columns on which we are iterating.\n",
        "    temp = (~movies_metadata[col].isnull())\n",
        "    movies_metadata[temp][col] = movies_metadata[temp][col].convert_dtypes(float)\n",
        "  \n",
        "    movies_metadata[col] = pd.to_numeric(movies_metadata[col], errors='coerce')\n",
        "\n",
        "features = ['revenue', 'release_date']\n",
        "movies = movies_metadata.toPandas()\n",
        "print(movies)\n",
        "plt.subplots(figsize=(15, 5))\n",
        "for i, col in enumerate(features):\n",
        "    plt.subplot(1, 3, i+1)\n",
        "    sb.distplot(movies[col])\n",
        "plt.tight_layout()\n",
        "plt.show()"
      ],
      "metadata": {
        "colab": {
          "base_uri": "https://localhost:8080/",
          "height": 380
        },
        "id": "alCsZwn7EZWU",
        "outputId": "8ea875bd-db06-4de7-c59c-2ac64fccf2ed"
      },
      "execution_count": 48,
      "outputs": [
        {
          "output_type": "error",
          "ename": "TypeError",
          "evalue": "ignored",
          "traceback": [
            "\u001b[0;31m---------------------------------------------------------------------------\u001b[0m",
            "\u001b[0;31mTypeError\u001b[0m                                 Traceback (most recent call last)",
            "\u001b[0;32m<ipython-input-48-44146ddc26c0>\u001b[0m in \u001b[0;36m<module>\u001b[0;34m\u001b[0m\n\u001b[1;32m      4\u001b[0m \u001b[0;34m\u001b[0m\u001b[0m\n\u001b[1;32m      5\u001b[0m \u001b[0;34m\u001b[0m\u001b[0m\n\u001b[0;32m----> 6\u001b[0;31m \u001b[0mmovies_metadata\u001b[0m\u001b[0;34m.\u001b[0m\u001b[0mrevenue\u001b[0m \u001b[0;34m=\u001b[0m \u001b[0mmovies_metadata\u001b[0m\u001b[0;34m.\u001b[0m\u001b[0mrevenue\u001b[0m\u001b[0;34m.\u001b[0m\u001b[0mstr\u001b[0m\u001b[0;34m[\u001b[0m\u001b[0;36m1\u001b[0m\u001b[0;34m:\u001b[0m\u001b[0;34m]\u001b[0m\u001b[0;34m\u001b[0m\u001b[0;34m\u001b[0m\u001b[0m\n\u001b[0m\u001b[1;32m      7\u001b[0m \u001b[0;34m\u001b[0m\u001b[0m\n\u001b[1;32m      8\u001b[0m \u001b[0;32mfor\u001b[0m \u001b[0mcol\u001b[0m \u001b[0;32min\u001b[0m \u001b[0;34m[\u001b[0m\u001b[0;34m'revenue'\u001b[0m\u001b[0;34m,\u001b[0m \u001b[0;34m'release_date'\u001b[0m\u001b[0;34m]\u001b[0m\u001b[0;34m:\u001b[0m\u001b[0;34m\u001b[0m\u001b[0;34m\u001b[0m\u001b[0m\n",
            "\u001b[0;32m/content/spark-3.0.1-bin-hadoop3.2/python/pyspark/sql/column.py\u001b[0m in \u001b[0;36m__getitem__\u001b[0;34m(self, k)\u001b[0m\n\u001b[1;32m    346\u001b[0m             \u001b[0;32mif\u001b[0m \u001b[0mk\u001b[0m\u001b[0;34m.\u001b[0m\u001b[0mstep\u001b[0m \u001b[0;32mis\u001b[0m \u001b[0;32mnot\u001b[0m \u001b[0;32mNone\u001b[0m\u001b[0;34m:\u001b[0m\u001b[0;34m\u001b[0m\u001b[0;34m\u001b[0m\u001b[0m\n\u001b[1;32m    347\u001b[0m                 \u001b[0;32mraise\u001b[0m \u001b[0mValueError\u001b[0m\u001b[0;34m(\u001b[0m\u001b[0;34m\"slice with step is not supported.\"\u001b[0m\u001b[0;34m)\u001b[0m\u001b[0;34m\u001b[0m\u001b[0;34m\u001b[0m\u001b[0m\n\u001b[0;32m--> 348\u001b[0;31m             \u001b[0;32mreturn\u001b[0m \u001b[0mself\u001b[0m\u001b[0;34m.\u001b[0m\u001b[0msubstr\u001b[0m\u001b[0;34m(\u001b[0m\u001b[0mk\u001b[0m\u001b[0;34m.\u001b[0m\u001b[0mstart\u001b[0m\u001b[0;34m,\u001b[0m \u001b[0mk\u001b[0m\u001b[0;34m.\u001b[0m\u001b[0mstop\u001b[0m\u001b[0;34m)\u001b[0m\u001b[0;34m\u001b[0m\u001b[0;34m\u001b[0m\u001b[0m\n\u001b[0m\u001b[1;32m    349\u001b[0m         \u001b[0;32melse\u001b[0m\u001b[0;34m:\u001b[0m\u001b[0;34m\u001b[0m\u001b[0;34m\u001b[0m\u001b[0m\n\u001b[1;32m    350\u001b[0m             \u001b[0;32mreturn\u001b[0m \u001b[0m_bin_op\u001b[0m\u001b[0;34m(\u001b[0m\u001b[0;34m\"apply\"\u001b[0m\u001b[0;34m)\u001b[0m\u001b[0;34m(\u001b[0m\u001b[0mself\u001b[0m\u001b[0;34m,\u001b[0m \u001b[0mk\u001b[0m\u001b[0;34m)\u001b[0m\u001b[0;34m\u001b[0m\u001b[0;34m\u001b[0m\u001b[0m\n",
            "\u001b[0;32m/content/spark-3.0.1-bin-hadoop3.2/python/pyspark/sql/column.py\u001b[0m in \u001b[0;36msubstr\u001b[0;34m(self, startPos, length)\u001b[0m\n\u001b[1;32m    421\u001b[0m         \"\"\"\n\u001b[1;32m    422\u001b[0m         \u001b[0;32mif\u001b[0m \u001b[0mtype\u001b[0m\u001b[0;34m(\u001b[0m\u001b[0mstartPos\u001b[0m\u001b[0;34m)\u001b[0m \u001b[0;34m!=\u001b[0m \u001b[0mtype\u001b[0m\u001b[0;34m(\u001b[0m\u001b[0mlength\u001b[0m\u001b[0;34m)\u001b[0m\u001b[0;34m:\u001b[0m\u001b[0;34m\u001b[0m\u001b[0;34m\u001b[0m\u001b[0m\n\u001b[0;32m--> 423\u001b[0;31m             raise TypeError(\n\u001b[0m\u001b[1;32m    424\u001b[0m                 \u001b[0;34m\"startPos and length must be the same type. \"\u001b[0m\u001b[0;34m\u001b[0m\u001b[0;34m\u001b[0m\u001b[0m\n\u001b[1;32m    425\u001b[0m                 \u001b[0;34m\"Got {startPos_t} and {length_t}, respectively.\"\u001b[0m\u001b[0;34m\u001b[0m\u001b[0;34m\u001b[0m\u001b[0m\n",
            "\u001b[0;31mTypeError\u001b[0m: startPos and length must be the same type. Got <class 'int'> and <class 'NoneType'>, respectively."
          ]
        }
      ]
    },
    {
      "cell_type": "code",
      "source": [
        "movies_metadata.show()"
      ],
      "metadata": {
        "colab": {
          "base_uri": "https://localhost:8080/",
          "height": 165
        },
        "id": "gn0wM90GH6Qk",
        "outputId": "f218ea1f-0fb0-474b-f2fa-ba064492dfa9"
      },
      "execution_count": 52,
      "outputs": [
        {
          "output_type": "error",
          "ename": "AttributeError",
          "evalue": "ignored",
          "traceback": [
            "\u001b[0;31m---------------------------------------------------------------------------\u001b[0m",
            "\u001b[0;31mAttributeError\u001b[0m                            Traceback (most recent call last)",
            "\u001b[0;32m<ipython-input-52-7e4b537c649f>\u001b[0m in \u001b[0;36m<module>\u001b[0;34m\u001b[0m\n\u001b[0;32m----> 1\u001b[0;31m \u001b[0mmovies_metadata\u001b[0m\u001b[0;34m.\u001b[0m\u001b[0mshow\u001b[0m\u001b[0;34m(\u001b[0m\u001b[0;34m)\u001b[0m\u001b[0;34m\u001b[0m\u001b[0;34m\u001b[0m\u001b[0m\n\u001b[0m",
            "\u001b[0;31mAttributeError\u001b[0m: 'NoneType' object has no attribute 'show'"
          ]
        }
      ]
    },
    {
      "cell_type": "code",
      "source": [
        "movies_metadata.select(mean('revenue'))"
      ],
      "metadata": {
        "colab": {
          "base_uri": "https://localhost:8080/",
          "height": 165
        },
        "id": "AQWO9bsODsUm",
        "outputId": "0d8aec86-83b7-4b93-ad44-0bc5420e7f0f"
      },
      "execution_count": 51,
      "outputs": [
        {
          "output_type": "error",
          "ename": "AttributeError",
          "evalue": "ignored",
          "traceback": [
            "\u001b[0;31m---------------------------------------------------------------------------\u001b[0m",
            "\u001b[0;31mAttributeError\u001b[0m                            Traceback (most recent call last)",
            "\u001b[0;32m<ipython-input-51-4ed0788ca947>\u001b[0m in \u001b[0;36m<module>\u001b[0;34m\u001b[0m\n\u001b[0;32m----> 1\u001b[0;31m \u001b[0mmovies_metadata\u001b[0m\u001b[0;34m.\u001b[0m\u001b[0mselect\u001b[0m\u001b[0;34m(\u001b[0m\u001b[0mmean\u001b[0m\u001b[0;34m(\u001b[0m\u001b[0;34m'revenue'\u001b[0m\u001b[0;34m)\u001b[0m\u001b[0;34m)\u001b[0m\u001b[0;34m\u001b[0m\u001b[0;34m\u001b[0m\u001b[0m\n\u001b[0m",
            "\u001b[0;31mAttributeError\u001b[0m: 'NoneType' object has no attribute 'select'"
          ]
        }
      ]
    },
    {
      "cell_type": "code",
      "source": [
        "X_train, y_train = \n",
        "# y : movie revenue, vote average\n",
        "\n",
        "# gridsearchcv"
      ],
      "metadata": {
        "id": "5JRhO2YaCUgK"
      },
      "execution_count": null,
      "outputs": []
    },
    {
      "cell_type": "markdown",
      "source": [
        "Recommender : annoy\n",
        "Build regression models to predict movie revenue and vote\n",
        "averages.\n"
      ],
      "metadata": {
        "id": "zPV9FwJ7-XBK"
      }
    },
    {
      "cell_type": "code",
      "source": [],
      "metadata": {
        "id": "cn7hWDQ--Y5q"
      },
      "execution_count": null,
      "outputs": []
    },
    {
      "cell_type": "markdown",
      "source": [
        "Use collaborative filtering to build a movie recommendation\n",
        "system with two functions"
      ],
      "metadata": {
        "id": "Q-jKY30B-lA2"
      }
    },
    {
      "cell_type": "code",
      "source": [],
      "metadata": {
        "id": "juw3Q7mT-mTa"
      },
      "execution_count": null,
      "outputs": []
    }
  ]
}